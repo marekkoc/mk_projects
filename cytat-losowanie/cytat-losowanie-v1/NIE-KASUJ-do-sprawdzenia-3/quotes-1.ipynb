{
 "cells": [
  {
   "cell_type": "markdown",
   "id": "404f9cfc-4028-4ebf-b403-427d6ae9266b",
   "metadata": {},
   "source": [
    "### C: 2020.05.22\n",
    "### M: 2023.05.25"
   ]
  },
  {
   "cell_type": "markdown",
   "id": "0e459c48-92fe-4092-b1ea-ea0e5f97a373",
   "metadata": {},
   "source": [
    "To jest pierwszy wpis do Jupyter Lab po wielu miesiącach."
   ]
  },
  {
   "cell_type": "code",
   "execution_count": 1,
   "id": "f80024f5-0670-42c9-9306-9419828d905a",
   "metadata": {},
   "outputs": [],
   "source": [
    "import json\n",
    "import pandas as pd\n",
    "from pathlib import Path"
   ]
  },
  {
   "cell_type": "code",
   "execution_count": 2,
   "id": "e7d07059-2110-4e5b-8072-201be583fc65",
   "metadata": {},
   "outputs": [],
   "source": [
    "def load_categories_from_txt_file(filename='kategorie.txt'):\n",
    "    \"\"\"\n",
    "    Loads categories from a file. Remove empty lines, comments and new line code.\n",
    "    \n",
    "    C:2023.05.22\n",
    "    M:2023.05.22\n",
    "    \"\"\"\n",
    "    with open(filename, 'r') as f:\n",
    "        categories = f.readlines()\n",
    "    categories = sorted([l.strip().replace(' ','-').capitalize() for l in categories if not l.startswith('#') and  not l.startswith('\\n')])\n",
    "    return categories"
   ]
  },
  {
   "cell_type": "code",
   "execution_count": 3,
   "id": "0dabe40b-d1e7-4090-b751-c42ad755e25a",
   "metadata": {},
   "outputs": [],
   "source": [
    "#pth = !pwd\n",
    "pth = Path().absolute()\n",
    "pth_src  = pth / 'src'\n",
    "#for f in src.glob('*'): print(f)"
   ]
  },
  {
   "cell_type": "code",
   "execution_count": 4,
   "id": "828835fd-10a1-4e4e-a280-ded141efcfaa",
   "metadata": {},
   "outputs": [],
   "source": [
    "#list(src.iterdir())\n",
    "#pth.home()"
   ]
  },
  {
   "cell_type": "markdown",
   "id": "480cfa1b-cbc8-46aa-92a9-448dc4a0ad11",
   "metadata": {},
   "source": [
    "### LOAD DEFINED CATEGORIES"
   ]
  },
  {
   "cell_type": "code",
   "execution_count": 5,
   "id": "2689e2bc-77d8-4209-8a01-163913525bc3",
   "metadata": {},
   "outputs": [],
   "source": [
    "file = pth_src / 'kategorie.txt'\n",
    "CATEGORIES = load_categories_from_txt_file(file)"
   ]
  },
  {
   "cell_type": "code",
   "execution_count": 6,
   "id": "7eb9c3d0-bb12-408b-b44a-e7ab9a311162",
   "metadata": {},
   "outputs": [
    {
     "data": {
      "text/html": [
       "<div>\n",
       "<style scoped>\n",
       "    .dataframe tbody tr th:only-of-type {\n",
       "        vertical-align: middle;\n",
       "    }\n",
       "\n",
       "    .dataframe tbody tr th {\n",
       "        vertical-align: top;\n",
       "    }\n",
       "\n",
       "    .dataframe thead th {\n",
       "        text-align: right;\n",
       "    }\n",
       "</style>\n",
       "<table border=\"1\" class=\"dataframe\">\n",
       "  <thead>\n",
       "    <tr style=\"text-align: right;\">\n",
       "      <th></th>\n",
       "      <th>Categories</th>\n",
       "    </tr>\n",
       "  </thead>\n",
       "  <tbody>\n",
       "    <tr>\n",
       "      <th>1</th>\n",
       "      <td>Afirmacje</td>\n",
       "    </tr>\n",
       "    <tr>\n",
       "      <th>2</th>\n",
       "      <td>Aktywnosc</td>\n",
       "    </tr>\n",
       "    <tr>\n",
       "      <th>3</th>\n",
       "      <td>Czas</td>\n",
       "    </tr>\n",
       "    <tr>\n",
       "      <th>4</th>\n",
       "      <td>Dobre-rady</td>\n",
       "    </tr>\n",
       "    <tr>\n",
       "      <th>5</th>\n",
       "      <td>Kobiety</td>\n",
       "    </tr>\n",
       "    <tr>\n",
       "      <th>6</th>\n",
       "      <td>Kodowanie</td>\n",
       "    </tr>\n",
       "    <tr>\n",
       "      <th>7</th>\n",
       "      <td>Meskosc</td>\n",
       "    </tr>\n",
       "    <tr>\n",
       "      <th>8</th>\n",
       "      <td>Motywacja</td>\n",
       "    </tr>\n",
       "    <tr>\n",
       "      <th>9</th>\n",
       "      <td>Nauka</td>\n",
       "    </tr>\n",
       "    <tr>\n",
       "      <th>10</th>\n",
       "      <td>Nawyki-555</td>\n",
       "    </tr>\n",
       "    <tr>\n",
       "      <th>11</th>\n",
       "      <td>Nawyki-codzienne</td>\n",
       "    </tr>\n",
       "    <tr>\n",
       "      <th>12</th>\n",
       "      <td>Nawyki-ogolne</td>\n",
       "    </tr>\n",
       "    <tr>\n",
       "      <th>13</th>\n",
       "      <td>Nawyki-rozwoj</td>\n",
       "    </tr>\n",
       "    <tr>\n",
       "      <th>14</th>\n",
       "      <td>Nawyki-tygodniowe</td>\n",
       "    </tr>\n",
       "    <tr>\n",
       "      <th>15</th>\n",
       "      <td>Odwaga</td>\n",
       "    </tr>\n",
       "    <tr>\n",
       "      <th>16</th>\n",
       "      <td>Pewnosc-siebie</td>\n",
       "    </tr>\n",
       "    <tr>\n",
       "      <th>17</th>\n",
       "      <td>Planowanie</td>\n",
       "    </tr>\n",
       "    <tr>\n",
       "      <th>18</th>\n",
       "      <td>Poczucie-wlasnej-wartosci</td>\n",
       "    </tr>\n",
       "    <tr>\n",
       "      <th>19</th>\n",
       "      <td>Praca</td>\n",
       "    </tr>\n",
       "    <tr>\n",
       "      <th>20</th>\n",
       "      <td>Przekonania</td>\n",
       "    </tr>\n",
       "    <tr>\n",
       "      <th>21</th>\n",
       "      <td>Relacje</td>\n",
       "    </tr>\n",
       "    <tr>\n",
       "      <th>22</th>\n",
       "      <td>Rozwoj</td>\n",
       "    </tr>\n",
       "    <tr>\n",
       "      <th>23</th>\n",
       "      <td>Samodyscyplina</td>\n",
       "    </tr>\n",
       "    <tr>\n",
       "      <th>24</th>\n",
       "      <td>Samoocena</td>\n",
       "    </tr>\n",
       "    <tr>\n",
       "      <th>25</th>\n",
       "      <td>Sen</td>\n",
       "    </tr>\n",
       "    <tr>\n",
       "      <th>26</th>\n",
       "      <td>Styl-zycia</td>\n",
       "    </tr>\n",
       "    <tr>\n",
       "      <th>27</th>\n",
       "      <td>Uwaznosc</td>\n",
       "    </tr>\n",
       "    <tr>\n",
       "      <th>28</th>\n",
       "      <td>Wizualizacje</td>\n",
       "    </tr>\n",
       "    <tr>\n",
       "      <th>29</th>\n",
       "      <td>Wydajnosc</td>\n",
       "    </tr>\n",
       "    <tr>\n",
       "      <th>30</th>\n",
       "      <td>Zdrowie</td>\n",
       "    </tr>\n",
       "    <tr>\n",
       "      <th>31</th>\n",
       "      <td>Zmiana</td>\n",
       "    </tr>\n",
       "  </tbody>\n",
       "</table>\n",
       "</div>"
      ],
      "text/plain": [
       "                   Categories\n",
       "1                   Afirmacje\n",
       "2                   Aktywnosc\n",
       "3                        Czas\n",
       "4                  Dobre-rady\n",
       "5                     Kobiety\n",
       "6                   Kodowanie\n",
       "7                     Meskosc\n",
       "8                   Motywacja\n",
       "9                       Nauka\n",
       "10                 Nawyki-555\n",
       "11           Nawyki-codzienne\n",
       "12              Nawyki-ogolne\n",
       "13              Nawyki-rozwoj\n",
       "14          Nawyki-tygodniowe\n",
       "15                     Odwaga\n",
       "16             Pewnosc-siebie\n",
       "17                 Planowanie\n",
       "18  Poczucie-wlasnej-wartosci\n",
       "19                      Praca\n",
       "20                Przekonania\n",
       "21                    Relacje\n",
       "22                     Rozwoj\n",
       "23             Samodyscyplina\n",
       "24                  Samoocena\n",
       "25                        Sen\n",
       "26                 Styl-zycia\n",
       "27                   Uwaznosc\n",
       "28               Wizualizacje\n",
       "29                  Wydajnosc\n",
       "30                    Zdrowie\n",
       "31                     Zmiana"
      ]
     },
     "execution_count": 6,
     "metadata": {},
     "output_type": "execute_result"
    }
   ],
   "source": [
    "df_categories = pd.DataFrame(CATEGORIES, columns=['Categories'], index=range(1,len(CATEGORIES)+1))\n",
    "df_categories"
   ]
  },
  {
   "cell_type": "markdown",
   "id": "3e403a40-887e-4679-9a2c-5158ecb18afc",
   "metadata": {},
   "source": [
    "### ABBREBATIONS USED DURING ENTRY DESCRIPTIONS\n",
    "\n",
    "```json\n",
    "{\n",
    "    \"q\": quote,\n",
    "    \"d\": date,\n",
    "    \"a\": author,\n",
    "    \"s\": source,\n",
    "    \"c\": cathegory (list),\n",
    "    \"r\": rating (czy fajny czy nie),\n",
    "    \"i\": importance (waznosc, przesłanie),\n",
    "    \"o\": on-going (czy wazny dla mnie w danej chwili)\n",
    "}\n",
    "```"
   ]
  },
  {
   "cell_type": "markdown",
   "id": "9f365387-2198-4fe1-b893-15d2bf4ff9b9",
   "metadata": {},
   "source": [
    "# LOADING DATA RELATED TO `MYSLEFL` E.G. HABBITS, VISUALIZATIONS, CONVICTIONS,..."
   ]
  },
  {
   "cell_type": "markdown",
   "id": "2e312a9f-677e-43cc-b3b1-1b6603e2f8d1",
   "metadata": {},
   "source": [
    "### LOAD FROM `MOJE.TXT` TEXT FILE"
   ]
  },
  {
   "cell_type": "code",
   "execution_count": 7,
   "id": "f681bf71-ccd3-424d-8083-749cdde84f25",
   "metadata": {},
   "outputs": [],
   "source": [
    "ja_pth = pth_src / 'ja.txt'\n",
    "with open(ja_pth) as f:\n",
    "    lines = f.readlines()"
   ]
  },
  {
   "cell_type": "code",
   "execution_count": 8,
   "id": "a35e24fa-7db7-4b13-b1f0-709e2c4be81d",
   "metadata": {},
   "outputs": [
    {
     "name": "stdout",
     "output_type": "stream",
     "text": [
      "File loaded. Read 60 sentences.\n"
     ]
    }
   ],
   "source": [
    "ja_lst = [] \n",
    "for l in lines:\n",
    "    if l.startswith('#'): continue\n",
    "    parts = l.strip().split(' # ')\n",
    "    parts_nr = len(parts)\n",
    "    tmp_dct = {}\n",
    "    for p in parts:\n",
    "        # remove colon sign (':') from key values\n",
    "        tmp_dct[p[0]]=p[2:]\n",
    "    ja_lst.append(tmp_dct)\n",
    "# pring info about loaded lines\n",
    "print(f'File loaded. Read {len(ja_lst)} sentences.')"
   ]
  },
  {
   "cell_type": "code",
   "execution_count": 9,
   "id": "83ad7df7-3004-4b59-ad5c-b9d85f1e8988",
   "metadata": {},
   "outputs": [
    {
     "data": {
      "text/html": [
       "<div>\n",
       "<style scoped>\n",
       "    .dataframe tbody tr th:only-of-type {\n",
       "        vertical-align: middle;\n",
       "    }\n",
       "\n",
       "    .dataframe tbody tr th {\n",
       "        vertical-align: top;\n",
       "    }\n",
       "\n",
       "    .dataframe thead th {\n",
       "        text-align: right;\n",
       "    }\n",
       "</style>\n",
       "<table border=\"1\" class=\"dataframe\">\n",
       "  <thead>\n",
       "    <tr style=\"text-align: right;\">\n",
       "      <th></th>\n",
       "      <th>Categories</th>\n",
       "      <th>Convictions</th>\n",
       "    </tr>\n",
       "  </thead>\n",
       "  <tbody>\n",
       "    <tr>\n",
       "      <th>0</th>\n",
       "      <td>Przekonania</td>\n",
       "      <td>Dbam o to by codziennie rozmawiać z nieznajomy...</td>\n",
       "    </tr>\n",
       "    <tr>\n",
       "      <th>1</th>\n",
       "      <td>Przekonania</td>\n",
       "      <td>Dbam o to by codziennie pracować więcej i wyda...</td>\n",
       "    </tr>\n",
       "    <tr>\n",
       "      <th>2</th>\n",
       "      <td>Przekonania</td>\n",
       "      <td>Dbam o to by codziennie być silniejszym, odważ...</td>\n",
       "    </tr>\n",
       "    <tr>\n",
       "      <th>3</th>\n",
       "      <td>Przekonania</td>\n",
       "      <td>Dbam o to by codziennie się uśmiechać, mieć do...</td>\n",
       "    </tr>\n",
       "    <tr>\n",
       "      <th>4</th>\n",
       "      <td>Przekonania</td>\n",
       "      <td>Dbam o to by codziennie kontrolować swoje emocje.</td>\n",
       "    </tr>\n",
       "    <tr>\n",
       "      <th>5</th>\n",
       "      <td>Przekonania</td>\n",
       "      <td>Dbam o to by codziennie lubić siebie coraz bar...</td>\n",
       "    </tr>\n",
       "    <tr>\n",
       "      <th>6</th>\n",
       "      <td>Przekonania</td>\n",
       "      <td>Dbam o to by robić jedną rzecz naraz. By być s...</td>\n",
       "    </tr>\n",
       "    <tr>\n",
       "      <th>7</th>\n",
       "      <td>Przekonania</td>\n",
       "      <td>Dbam o to by doprowadzać do końca rzeczy które...</td>\n",
       "    </tr>\n",
       "    <tr>\n",
       "      <th>8</th>\n",
       "      <td>Przekonania</td>\n",
       "      <td>Dbam o to by być ciekawym drugiego człowieka i...</td>\n",
       "    </tr>\n",
       "    <tr>\n",
       "      <th>9</th>\n",
       "      <td>Wizualizacje</td>\n",
       "      <td>1. Chodzę na randki</td>\n",
       "    </tr>\n",
       "    <tr>\n",
       "      <th>10</th>\n",
       "      <td>Wizualizacje</td>\n",
       "      <td>2. Jestem pewny siebie i zdecydowany</td>\n",
       "    </tr>\n",
       "    <tr>\n",
       "      <th>11</th>\n",
       "      <td>Wizualizacje</td>\n",
       "      <td>3. Mam partnerkę, żonę</td>\n",
       "    </tr>\n",
       "    <tr>\n",
       "      <th>12</th>\n",
       "      <td>Wizualizacje</td>\n",
       "      <td>4. Jestem głową rodziny</td>\n",
       "    </tr>\n",
       "    <tr>\n",
       "      <th>13</th>\n",
       "      <td>Wizualizacje</td>\n",
       "      <td>5. Mam dom za miastem</td>\n",
       "    </tr>\n",
       "    <tr>\n",
       "      <th>14</th>\n",
       "      <td>Nawyki 555</td>\n",
       "      <td>1. Zaczynaj każdy swój dzień z gotowym planem.</td>\n",
       "    </tr>\n",
       "  </tbody>\n",
       "</table>\n",
       "</div>"
      ],
      "text/plain": [
       "      Categories                                        Convictions\n",
       "0    Przekonania  Dbam o to by codziennie rozmawiać z nieznajomy...\n",
       "1    Przekonania  Dbam o to by codziennie pracować więcej i wyda...\n",
       "2    Przekonania  Dbam o to by codziennie być silniejszym, odważ...\n",
       "3    Przekonania  Dbam o to by codziennie się uśmiechać, mieć do...\n",
       "4    Przekonania  Dbam o to by codziennie kontrolować swoje emocje.\n",
       "5    Przekonania  Dbam o to by codziennie lubić siebie coraz bar...\n",
       "6    Przekonania  Dbam o to by robić jedną rzecz naraz. By być s...\n",
       "7    Przekonania  Dbam o to by doprowadzać do końca rzeczy które...\n",
       "8    Przekonania  Dbam o to by być ciekawym drugiego człowieka i...\n",
       "9   Wizualizacje                                1. Chodzę na randki\n",
       "10  Wizualizacje               2. Jestem pewny siebie i zdecydowany\n",
       "11  Wizualizacje                             3. Mam partnerkę, żonę\n",
       "12  Wizualizacje                            4. Jestem głową rodziny\n",
       "13  Wizualizacje                              5. Mam dom za miastem\n",
       "14    Nawyki 555     1. Zaczynaj każdy swój dzień z gotowym planem."
      ]
     },
     "execution_count": 9,
     "metadata": {},
     "output_type": "execute_result"
    }
   ],
   "source": [
    "df_ja = pd.DataFrame(ja_lst)\n",
    "df_ja.columns = ['Categories', 'Convictions']\n",
    "df_ja[:15]"
   ]
  },
  {
   "cell_type": "code",
   "execution_count": 10,
   "id": "f4177259-fc59-46d9-bc0b-b82b1f8e672a",
   "metadata": {},
   "outputs": [],
   "source": [
    "#for dct in myself_lst:     print(dct)"
   ]
  },
  {
   "cell_type": "code",
   "execution_count": 11,
   "id": "c491eddf-59bb-445a-ba2a-1dc0eaf91835",
   "metadata": {},
   "outputs": [
    {
     "data": {
      "text/plain": [
       "{'Nawyki 555',\n",
       " 'Nawyki codzienne',\n",
       " 'Nawyki ogolne',\n",
       " 'Nawyki rozwoj',\n",
       " 'Nawyki tygodniowe ',\n",
       " 'Przekonania',\n",
       " 'Wizualizacje'}"
      ]
     },
     "execution_count": 11,
     "metadata": {},
     "output_type": "execute_result"
    }
   ],
   "source": [
    "set(df_ja.loc[:,'Categories'])"
   ]
  },
  {
   "cell_type": "markdown",
   "id": "877f35d3-a5ee-41e3-9dea-426bcc240cce",
   "metadata": {},
   "source": [
    "# LOADING QUOTS FROM `DAWKA_MOTYWACJI.TXT`"
   ]
  },
  {
   "cell_type": "code",
   "execution_count": 12,
   "id": "ee2eeeec-9587-4c80-8c59-7491b48e8b70",
   "metadata": {},
   "outputs": [],
   "source": [
    "dawka_pth = pth_src / 'dawka_motywacji.txt'\n",
    "with open(dawka_pth, 'r', encoding='utf-8') as f:\n",
    "    lines = f.readlines()"
   ]
  },
  {
   "cell_type": "code",
   "execution_count": 16,
   "id": "7ac84cfc-0127-416e-b2bf-203423d005dd",
   "metadata": {},
   "outputs": [],
   "source": [
    "lines = [l.strip() for l in lines if len(l)>2] \n",
    "text = lines[::2]\n",
    "author = lines[1::2]\n",
    "ta = list(zip(text,author))\n",
    "df_dawka = pd.DataFrame(ta)\n",
    "df_dawka.columns = ['Text', 'Author']\n",
    "a,b = df_dawka.iloc[5,[0,1]]"
   ]
  },
  {
   "cell_type": "code",
   "execution_count": 19,
   "id": "2fc1d1f5-03e8-422f-ba89-9d7f12833701",
   "metadata": {},
   "outputs": [
    {
     "data": {
      "text/plain": [
       "('Kiedy już rozwiążesz jakiś problem, przekonujesz się, że było to dziecinnie łatwe.',\n",
       " 'Paulo Coelho')"
      ]
     },
     "execution_count": 19,
     "metadata": {},
     "output_type": "execute_result"
    }
   ],
   "source": [
    "a,b"
   ]
  },
  {
   "cell_type": "code",
   "execution_count": null,
   "id": "84616fe7-0617-47fd-8290-a2810e2bdc63",
   "metadata": {},
   "outputs": [],
   "source": []
  },
  {
   "cell_type": "code",
   "execution_count": null,
   "id": "6abba1e2-3d92-4053-8e83-28580832cfd8",
   "metadata": {},
   "outputs": [],
   "source": []
  },
  {
   "cell_type": "code",
   "execution_count": null,
   "id": "8fc3d4c5-1024-47d4-bad3-c6c0a019a837",
   "metadata": {},
   "outputs": [],
   "source": []
  },
  {
   "cell_type": "code",
   "execution_count": null,
   "id": "bcaccf76-1025-401b-bb11-4e5735645843",
   "metadata": {},
   "outputs": [],
   "source": []
  },
  {
   "cell_type": "markdown",
   "id": "6a447773-b495-4de4-babe-0dc47d38d8f1",
   "metadata": {},
   "source": [
    "---"
   ]
  },
  {
   "cell_type": "code",
   "execution_count": null,
   "id": "91b4dec5-44d3-4535-b994-e4286ff2b115",
   "metadata": {},
   "outputs": [],
   "source": [
    "myfile = open('cytaty-1.txt', 'r', encoding='utf-8') \n",
    "quots = json.load(myfile)\n",
    "myfile.close()"
   ]
  },
  {
   "cell_type": "code",
   "execution_count": 60,
   "id": "c80a35a7-3b72-42df-ad66-d594d738ff4c",
   "metadata": {},
   "outputs": [
    {
     "data": {
      "text/plain": [
       "dict"
      ]
     },
     "execution_count": 60,
     "metadata": {},
     "output_type": "execute_result"
    }
   ],
   "source": [
    "type(quots[0])"
   ]
  },
  {
   "cell_type": "code",
   "execution_count": 61,
   "id": "7612fb1d-2f34-449a-8810-e8f79ca43ff1",
   "metadata": {},
   "outputs": [
    {
     "name": "stdout",
     "output_type": "stream",
     "text": [
      "Nie płacą Ci za to jak ciężko pracujesz, tylko jak trudny jesteś do zastąpienia!\n",
      "Give your studies time that they deserve!\n",
      "Nie patrz na kod, jak działa język programowania - patrz na wynik!\n",
      "Codziennie naucz się 4-5 nowych komend, które wydają ci się przydatne\n"
     ]
    }
   ],
   "source": [
    "for k in range(len(quots)):\n",
    "    print(quots[k]['quot'])"
   ]
  },
  {
   "cell_type": "code",
   "execution_count": 62,
   "id": "b6e2b430-699c-49dd-a8c4-318ae986ba8c",
   "metadata": {},
   "outputs": [
    {
     "data": {
      "text/plain": [
       "'Nie płacą Ci za to jak ciężko pracujesz, tylko jak trudny jesteś do zastąpienia!'"
      ]
     },
     "execution_count": 62,
     "metadata": {},
     "output_type": "execute_result"
    }
   ],
   "source": [
    "quots[0]['quot']"
   ]
  },
  {
   "cell_type": "code",
   "execution_count": null,
   "id": "9df87464-704a-4175-8930-32ddc5334a3c",
   "metadata": {},
   "outputs": [],
   "source": []
  }
 ],
 "metadata": {
  "kernelspec": {
   "display_name": "py38",
   "language": "python",
   "name": "py38"
  },
  "language_info": {
   "codemirror_mode": {
    "name": "ipython",
    "version": 3
   },
   "file_extension": ".py",
   "mimetype": "text/x-python",
   "name": "python",
   "nbconvert_exporter": "python",
   "pygments_lexer": "ipython3",
   "version": "3.8.13"
  }
 },
 "nbformat": 4,
 "nbformat_minor": 5
}
